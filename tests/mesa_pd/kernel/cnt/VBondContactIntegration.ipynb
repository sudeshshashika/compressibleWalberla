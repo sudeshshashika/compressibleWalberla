{
 "cells": [
  {
   "cell_type": "code",
   "execution_count": null,
   "id": "northern-indie",
   "metadata": {},
   "outputs": [],
   "source": [
    "import matplotlib.pyplot as pl\n",
    "import numpy as np\n",
    "import seaborn as sns\n",
    "\n",
    "%matplotlib inline\n",
    "%config InlineBackend.figure_formats = ['svg']\n",
    "\n",
    "sns.set_context(\"talk\")"
   ]
  },
  {
   "cell_type": "code",
   "execution_count": null,
   "id": "distant-tsunami",
   "metadata": {},
   "outputs": [],
   "source": [
    "energies = np.loadtxt('VBondContactEnergies.txt').transpose()\n",
    "ref = np.loadtxt('VBondContactEnergies.ref.txt')"
   ]
  },
  {
   "cell_type": "code",
   "execution_count": null,
   "id": "failing-studio",
   "metadata": {},
   "outputs": [],
   "source": [
    "pl.figure( figsize=(10,10) )\n",
    "pl.subplot(221)\n",
    "pl.title('tensile')\n",
    "pl.plot(energies[1], label='MESA-PD')\n",
    "pl.plot(ref[0], label='reference')\n",
    "pl.legend()\n",
    "\n",
    "pl.subplot(222)\n",
    "pl.title('shear')\n",
    "pl.plot(energies[2])\n",
    "pl.plot(ref[1])\n",
    "\n",
    "pl.subplot(223)\n",
    "pl.title('bending')\n",
    "pl.plot(energies[3])\n",
    "pl.plot(ref[2])\n",
    "\n",
    "pl.subplot(224)\n",
    "pl.title('twisting')\n",
    "pl.plot(energies[4])\n",
    "pl.plot(ref[3])\n",
    "\n",
    "pl.tight_layout()\n",
    "pl.show()"
   ]
  },
  {
   "cell_type": "code",
   "execution_count": null,
   "id": "enormous-salvation",
   "metadata": {},
   "outputs": [],
   "source": []
  }
 ],
 "metadata": {
  "kernelspec": {
   "display_name": "Python 3",
   "language": "python",
   "name": "python3"
  },
  "language_info": {
   "codemirror_mode": {
    "name": "ipython",
    "version": 3
   },
   "file_extension": ".py",
   "mimetype": "text/x-python",
   "name": "python",
   "nbconvert_exporter": "python",
   "pygments_lexer": "ipython3",
   "version": "3.8.5"
  }
 },
 "nbformat": 4,
 "nbformat_minor": 5
}
