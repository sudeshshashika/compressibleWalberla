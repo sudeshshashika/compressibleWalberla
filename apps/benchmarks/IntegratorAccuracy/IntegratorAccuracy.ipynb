{
 "cells": [
  {
   "cell_type": "markdown",
   "metadata": {},
   "source": [
    "# error analysis of integration kernels"
   ]
  },
  {
   "cell_type": "code",
   "execution_count": null,
   "metadata": {},
   "outputs": [],
   "source": [
    "import matplotlib.pyplot as plt\n",
    "import numpy as np"
   ]
  },
  {
   "cell_type": "code",
   "execution_count": null,
   "metadata": {},
   "outputs": [],
   "source": [
    "integrator = 'euler'\n",
    "data01 = np.loadtxt(f'{integrator}01.txt').transpose()\n",
    "data02 = np.loadtxt(f'{integrator}02.txt').transpose()\n",
    "data04 = np.loadtxt(f'{integrator}04.txt').transpose()"
   ]
  },
  {
   "cell_type": "code",
   "execution_count": null,
   "metadata": {},
   "outputs": [],
   "source": [
    "plt.plot(data01[0], data01[7], label='dt = 0.1')\n",
    "plt.plot(data02[0], data02[7], label='dt = 0.2')\n",
    "plt.plot(data04[0], data04[7], label='dt = 0.4')\n",
    "plt.xlabel('time')\n",
    "plt.ylabel('max pos error')\n",
    "plt.legend()\n",
    "plt.show()"
   ]
  },
  {
   "cell_type": "code",
   "execution_count": null,
   "metadata": {},
   "outputs": [],
   "source": [
    "plt.plot(data01[0], data01[8], label='dt = 0.1')\n",
    "plt.plot(data02[0], data02[8], label='dt = 0.2')\n",
    "plt.plot(data04[0], data04[8], label='dt = 0.4')\n",
    "plt.xlabel('time')\n",
    "plt.ylabel('max vel error')\n",
    "plt.legend()\n",
    "plt.show()"
   ]
  },
  {
   "cell_type": "code",
   "execution_count": null,
   "metadata": {},
   "outputs": [],
   "source": [
    "final_errors = np.ones(3)\n",
    "final_errors[0] = np.abs(data01[7][-1])\n",
    "final_errors[1] = np.abs(data02[7][-1])\n",
    "final_errors[2] = np.abs(data04[7][-1])\n",
    "\n",
    "plt.bar(np.arange(3), final_errors)\n",
    "plt.show()\n",
    "\n",
    "print(final_errors[2] / final_errors[1])\n",
    "print(final_errors[1] / final_errors[0])"
   ]
  },
  {
   "cell_type": "code",
   "execution_count": null,
   "metadata": {},
   "outputs": [],
   "source": [
    "plt.plot(data01[0], data01[1], label='analytic')\n",
    "plt.plot(data01[0], data01[4], label='dt = 0.1')\n",
    "plt.plot(data02[0], data02[4], label='dt = 0.2')\n",
    "plt.plot(data04[0], data04[4], label='dt = 0.4')\n",
    "plt.xlabel('time')\n",
    "plt.ylabel('pos')\n",
    "plt.legend()\n",
    "plt.show()"
   ]
  },
  {
   "cell_type": "code",
   "execution_count": null,
   "metadata": {},
   "outputs": [],
   "source": [
    "plt.plot(data01[0], data01[2], label='analytic')\n",
    "plt.plot(data01[0], data01[5], label='dt = 0.1')\n",
    "plt.plot(data02[0], data02[5], label='dt = 0.2')\n",
    "plt.plot(data04[0], data04[5], label='dt = 0.4')\n",
    "plt.xlabel('time')\n",
    "plt.ylabel('vel')\n",
    "plt.legend()\n",
    "plt.show()"
   ]
  },
  {
   "cell_type": "code",
   "execution_count": null,
   "metadata": {},
   "outputs": [],
   "source": [
    "plt.plot(data01[0], data01[6] / data01[3][0], label='dt = 0.1')\n",
    "plt.plot(data02[0], data02[6] / data01[3][0], label='dt = 0.2')\n",
    "plt.plot(data04[0], data04[6] / data01[3][0], label='dt = 0.4')\n",
    "plt.xlabel('time')\n",
    "plt.ylabel('relative energy')\n",
    "plt.legend()\n",
    "plt.show()"
   ]
  },
  {
   "cell_type": "code",
   "execution_count": null,
   "metadata": {},
   "outputs": [],
   "source": []
  }
 ],
 "metadata": {
  "kernelspec": {
   "display_name": "Python 3",
   "language": "python",
   "name": "python3"
  },
  "language_info": {
   "codemirror_mode": {
    "name": "ipython",
    "version": 3
   },
   "file_extension": ".py",
   "mimetype": "text/x-python",
   "name": "python",
   "nbconvert_exporter": "python",
   "pygments_lexer": "ipython3",
   "version": "3.7.4"
  }
 },
 "nbformat": 4,
 "nbformat_minor": 2
}
